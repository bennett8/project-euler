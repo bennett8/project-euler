{
 "cells": [
  {
   "cell_type": "markdown",
   "metadata": {},
   "source": [
    "The sum of the primes below 10 is 2 + 3 + 5 + 7 = 17.\n",
    "\n",
    "Find the sum of all the primes below two million."
   ]
  },
  {
   "cell_type": "code",
   "execution_count": 23,
   "metadata": {},
   "outputs": [],
   "source": [
    "def is_prime(number):\n",
    "    for divisor in range(2,number):\n",
    "        if number % divisor == 0:\n",
    "            return False\n",
    "            break\n",
    "    return True"
   ]
  },
  {
   "cell_type": "code",
   "execution_count": 51,
   "metadata": {},
   "outputs": [],
   "source": [
    "maximum = 40000\n",
    "def solve(max):\n",
    "    primes = [i for i in range(2,max) if is_prime(i)]\n",
    "    solution = sum(primes)\n",
    "    return solution"
   ]
  },
  {
   "cell_type": "code",
   "execution_count": 53,
   "metadata": {},
   "outputs": [
    {
     "name": "stdout",
     "output_type": "stream",
     "text": [
      "Wall time: 4.73 s\n"
     ]
    },
    {
     "data": {
      "text/plain": [
       "79170666"
      ]
     },
     "execution_count": 53,
     "metadata": {},
     "output_type": "execute_result"
    }
   ],
   "source": [
    "%%time\n",
    "solve(maximum)"
   ]
  },
  {
   "cell_type": "markdown",
   "metadata": {},
   "source": [
    "### Above is too slow, so going to build Sieve of Eratosthenes"
   ]
  },
  {
   "cell_type": "code",
   "execution_count": 93,
   "metadata": {},
   "outputs": [
    {
     "name": "stdout",
     "output_type": "stream",
     "text": [
      "142913828922\n",
      "Wall time: 1.28 s\n"
     ]
    }
   ],
   "source": [
    "%%time\n",
    "input = 2000000\n",
    "primes = [True for i in range(input)]\n",
    "p = 2\n",
    "while p < input-1:\n",
    "    if primes[p]:\n",
    "        for i in range(p*2, input, p):\n",
    "            primes[i] = False\n",
    "    p += 1\n",
    "    \n",
    "solution = 0\n",
    "for x in range(2, input):\n",
    "    if primes[x]:\n",
    "        solution += x\n",
    "\n",
    "print(solution)"
   ]
  },
  {
   "cell_type": "code",
   "execution_count": 95,
   "metadata": {},
   "outputs": [
    {
     "name": "stdout",
     "output_type": "stream",
     "text": [
      "142913828922\n",
      "Wall time: 1.07 s\n"
     ]
    }
   ],
   "source": [
    "# Starting with p*p instead of p*2\n",
    "%%time\n",
    "input2 = 2000000\n",
    "primes2 = [True for i in range(input2)]\n",
    "p = 2\n",
    "while p < input2-1:\n",
    "    if primes2[p]:\n",
    "        for i in range(p*p, input2, p):\n",
    "            primes2[i] = False\n",
    "    p += 1\n",
    "    \n",
    "solution2 = 0\n",
    "for x in range(2, input2):\n",
    "    if primes2[x]:\n",
    "        solution2 += x\n",
    "\n",
    "print(solution2)"
   ]
  }
 ],
 "metadata": {
  "kernelspec": {
   "display_name": "Python 3",
   "language": "python",
   "name": "python3"
  },
  "language_info": {
   "codemirror_mode": {
    "name": "ipython",
    "version": 3
   },
   "file_extension": ".py",
   "mimetype": "text/x-python",
   "name": "python",
   "nbconvert_exporter": "python",
   "pygments_lexer": "ipython3",
   "version": "3.7.3"
  }
 },
 "nbformat": 4,
 "nbformat_minor": 2
}

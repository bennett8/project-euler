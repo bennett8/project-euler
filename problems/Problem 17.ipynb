{
 "cells": [
  {
   "cell_type": "markdown",
   "metadata": {},
   "source": [
    "If the numbers 1 to 5 are written out in words: one, two, three, four, five, then there are 3 + 3 + 5 + 4 + 4 = 19 letters used in total.\n",
    "\n",
    "If all the numbers from 1 to 1000 (one thousand) inclusive were written out in words, how many letters would be used?\n",
    "\n",
    "NOTE: Do not count spaces or hyphens. For example, 342 (three hundred and forty-two) contains 23 letters and 115 (one hundred and fifteen) contains 20 letters. The use of \"and\" when writing out numbers is in compliance with British usage.\n"
   ]
  },
  {
   "cell_type": "code",
   "execution_count": 38,
   "metadata": {
    "scrolled": true
   },
   "outputs": [
    {
     "name": "stdout",
     "output_type": "stream",
     "text": [
      "21124\n"
     ]
    }
   ],
   "source": [
    "guide = [\n",
    "{'one': (3, 10*9 + 100 + 1)},\n",
    "{'two': (3, 10*9 + 100)},\n",
    "{'three': (5, 10*9 + 100)},\n",
    "{'four': (4, 10*9 + 100)},\n",
    "{'five': (4, 10*9 + 100)},\n",
    "{'six': (3, 10*9 + 100)},\n",
    "{'seven': (5, 10*9 + 100)},\n",
    "{'eight': (5, 10*9 + 100)},\n",
    "{'nine': (4, 10*9 + 100)},\n",
    "{'ten': (3, 10)},\n",
    "{'eleven': (6, 10)},\n",
    "{'twelve': (6, 10)},\n",
    "{'thirteen': (8, 10)},\n",
    "{'fourteen': (8, 10)},\n",
    "{'fifteen': (7, 10)},\n",
    "{'sixteen': (7, 10)},\n",
    "{'seventeen': (9, 10)},\n",
    "{'eighteen': (8, 10)},\n",
    "{'nineteen': (8, 10)},\n",
    "{'twenty': (6, 10*10)},\n",
    "{'thirty': (6, 10*10)},\n",
    "{'forty': (5, 10*10)},\n",
    "{'fifty': (5, 10*10)},\n",
    "{'sixty': (5, 10*10)},\n",
    "{'seventy': (7, 10*10)},\n",
    "{'eighty': (6, 10*10)},\n",
    "{'ninety': (6, 10*10)},\n",
    "{'hundred': (7, 100*9)},\n",
    "{'and': (3, 99*9)},\n",
    "{'thousand': (8, 1)}\n",
    "]\n",
    "\n",
    "solution = 0\n",
    "for item in guide:\n",
    "    for key in item:\n",
    "        solution += (item[key][0] * item[key][1])\n",
    "print(solution)\n",
    "\n",
    "#21,124"
   ]
  }
 ],
 "metadata": {
  "kernelspec": {
   "display_name": "Python 3",
   "language": "python",
   "name": "python3"
  },
  "language_info": {
   "codemirror_mode": {
    "name": "ipython",
    "version": 3
   },
   "file_extension": ".py",
   "mimetype": "text/x-python",
   "name": "python",
   "nbconvert_exporter": "python",
   "pygments_lexer": "ipython3",
   "version": "3.7.3"
  }
 },
 "nbformat": 4,
 "nbformat_minor": 2
}

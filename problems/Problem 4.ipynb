{
 "cells": [
  {
   "cell_type": "code",
   "execution_count": 1,
   "metadata": {},
   "outputs": [],
   "source": [
    "# A palindromic number reads the same both ways.\n",
    "# The largest palindrome made from the product of two 2-digit numbers is 9009 = 91 × 99.\n",
    "# Find the largest palindrome made from the product of two 3-digit numbers."
   ]
  },
  {
   "cell_type": "code",
   "execution_count": 60,
   "metadata": {},
   "outputs": [],
   "source": [
    "def is_palindrome(number): \n",
    "    string = str(number)\n",
    "    length = len(string)\n",
    "    for i in range(length // 2): #iterate over each digit in first half of digits\n",
    "        if string[i] == string[-i-1]:\n",
    "            continue\n",
    "        else:\n",
    "            return False\n",
    "            break\n",
    "    return True"
   ]
  },
  {
   "cell_type": "code",
   "execution_count": 62,
   "metadata": {},
   "outputs": [
    {
     "name": "stdout",
     "output_type": "stream",
     "text": [
      "906609\n"
     ]
    }
   ],
   "source": [
    "factor_range = range(100,1000)\n",
    "solution = 0\n",
    "for i in factor_range:\n",
    "    for j in factor_range:\n",
    "        possible_answer = i*j\n",
    "        if is_palindrome(possible_answer):\n",
    "            if possible_answer > solution:\n",
    "                solution = possible_answer\n",
    "print(solution)"
   ]
  },
  {
   "cell_type": "code",
   "execution_count": 67,
   "metadata": {},
   "outputs": [
    {
     "name": "stdout",
     "output_type": "stream",
     "text": [
      "True\n"
     ]
    }
   ],
   "source": [
    "# Other way of testing palindrome\n",
    "num = 12321\n",
    "string = str(num)\n",
    "if string == string[::-1]: #[::-1] creates a slice that is the whole string, but moves one character back at a time\n",
    "    print(True)\n",
    "else:\n",
    "    print(False)\n"
   ]
  }
 ],
 "metadata": {
  "kernelspec": {
   "display_name": "Python 3",
   "language": "python",
   "name": "python3"
  },
  "language_info": {
   "codemirror_mode": {
    "name": "ipython",
    "version": 3
   },
   "file_extension": ".py",
   "mimetype": "text/x-python",
   "name": "python",
   "nbconvert_exporter": "python",
   "pygments_lexer": "ipython3",
   "version": "3.7.3"
  }
 },
 "nbformat": 4,
 "nbformat_minor": 2
}

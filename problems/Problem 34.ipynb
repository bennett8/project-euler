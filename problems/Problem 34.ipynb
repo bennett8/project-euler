{
 "cells": [
  {
   "cell_type": "markdown",
   "metadata": {},
   "source": [
    "145 is a curious number, as 1! + 4! + 5! = 1 + 24 + 120 = 145.\n",
    "\n",
    "Find the sum of all numbers which are equal to the sum of the factorial of their digits.\n",
    "\n",
    "Note: as 1! = 1 and 2! = 2 are not sums they are not included."
   ]
  },
  {
   "cell_type": "code",
   "execution_count": 19,
   "metadata": {},
   "outputs": [
    {
     "data": {
      "text/plain": [
       "True"
      ]
     },
     "execution_count": 19,
     "metadata": {},
     "output_type": "execute_result"
    }
   ],
   "source": [
    "import math\n",
    "\n",
    "def is_equal(x):\n",
    "    count = 0\n",
    "    str_x = str(x)\n",
    "    for i in str_x:\n",
    "        count += math.factorial(int(i))\n",
    "    if count == x:\n",
    "        return True\n",
    "    else:\n",
    "#         print('count: ' + str(count))\n",
    "#         print('x: ' + str(x))\n",
    "        return False\n",
    "\n",
    "is_equal(145)"
   ]
  },
  {
   "cell_type": "code",
   "execution_count": 21,
   "metadata": {},
   "outputs": [
    {
     "name": "stdout",
     "output_type": "stream",
     "text": [
      "found one: 145\n",
      "found one: 40585\n",
      "40730\n"
     ]
    }
   ],
   "source": [
    "solution = 0\n",
    "for i in range(3, 10000000):\n",
    "    if is_equal(i):\n",
    "        print('found one: ' +str(i))\n",
    "        solution += i\n",
    "\n",
    "print(solution)"
   ]
  },
  {
   "cell_type": "code",
   "execution_count": null,
   "metadata": {},
   "outputs": [],
   "source": [
    "# I thought selecting an arbitrary upper bound was dumb, but seems consistent with most in threads. Here's a better way:\n",
    "'''\n",
    "In what follows, I will be using 'sum' as the result of summing the factorials of the digits of a number.  \n",
    "\n",
    "The 8 digit number that has the largest 'sum' is the one with eight 9's.  This has a 'sum' of 8*9! = 2903040.  \n",
    "Since this is only 7 digits long, we know that there is no solution for 8 digits.  This also holds true for all \n",
    "lengths bigger than 8.\n",
    "\n",
    "Based on this, we know that the maximum length is 7 digits.  Assuming all 9's for those, would give 'sum' of 7*9!.  \n",
    "This can be used as upper bound of your calculations, as there doesn't exist a 7 digit number that results in a 'sum' \n",
    "bigger than this. \n",
    "\n",
    "'''"
   ]
  }
 ],
 "metadata": {
  "kernelspec": {
   "display_name": "Python 3",
   "language": "python",
   "name": "python3"
  },
  "language_info": {
   "codemirror_mode": {
    "name": "ipython",
    "version": 3
   },
   "file_extension": ".py",
   "mimetype": "text/x-python",
   "name": "python",
   "nbconvert_exporter": "python",
   "pygments_lexer": "ipython3",
   "version": "3.7.3"
  }
 },
 "nbformat": 4,
 "nbformat_minor": 2
}

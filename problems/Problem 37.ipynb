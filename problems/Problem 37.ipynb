{
 "cells": [
  {
   "cell_type": "markdown",
   "metadata": {},
   "source": [
    "The number 3797 has an interesting property. Being prime itself, it is possible to continuously remove digits from left to right, and remain prime at each stage: 3797, 797, 97, and 7. Similarly we can work from right to left: 3797, 379, 37, and 3.\n",
    "\n",
    "Find the sum of the only eleven primes that are both truncatable from left to right and right to left.\n",
    "\n",
    "NOTE: 2, 3, 5, and 7 are not considered to be truncatable primes."
   ]
  },
  {
   "cell_type": "code",
   "execution_count": 39,
   "metadata": {},
   "outputs": [],
   "source": [
    "import math\n",
    "def is_prime(number):\n",
    "    if number <2:\n",
    "        return False\n",
    "    else:\n",
    "        for i in range(2,math.floor(math.sqrt(number))+1):\n",
    "            if number % i == 0:\n",
    "                return False\n",
    "                break\n",
    "        return True"
   ]
  },
  {
   "cell_type": "code",
   "execution_count": 40,
   "metadata": {},
   "outputs": [
    {
     "data": {
      "text/plain": [
       "True"
      ]
     },
     "execution_count": 40,
     "metadata": {},
     "output_type": "execute_result"
    }
   ],
   "source": [
    "def is_trunctable_prime_left(number): #Note: Doesn't test original number; only truncated versions\n",
    "    for i in range(len(str(number))-1):\n",
    "#         print(int(str(number)[i+1:]))\n",
    "        if not is_prime(int(str(number)[i+1:])):\n",
    "            return False\n",
    "            break\n",
    "    return True\n",
    "\n",
    "is_trunctable_prime_left(337)"
   ]
  },
  {
   "cell_type": "code",
   "execution_count": 41,
   "metadata": {},
   "outputs": [
    {
     "data": {
      "text/plain": [
       "False"
      ]
     },
     "execution_count": 41,
     "metadata": {},
     "output_type": "execute_result"
    }
   ],
   "source": [
    "def is_trunctable_prime_right(number): #Note: Doesn't test original number; only truncated versions\n",
    "    for i in range(len(str(number))-1):\n",
    "#         print(-1-i)\n",
    "#         print(int(str(number)[:-1-i]))\n",
    "        if not is_prime(int(str(number)[:-1-i])):\n",
    "            return False\n",
    "            break\n",
    "    return True\n",
    "\n",
    "is_trunctable_prime_right(337)"
   ]
  },
  {
   "cell_type": "code",
   "execution_count": 43,
   "metadata": {},
   "outputs": [
    {
     "name": "stdout",
     "output_type": "stream",
     "text": [
      "23\n",
      "37\n",
      "53\n",
      "73\n",
      "313\n",
      "317\n",
      "373\n",
      "797\n",
      "3137\n",
      "3797\n",
      "739397\n",
      "Wall time: 4.04 s\n"
     ]
    },
    {
     "data": {
      "text/plain": [
       "748317"
      ]
     },
     "execution_count": 43,
     "metadata": {},
     "output_type": "execute_result"
    }
   ],
   "source": [
    "%%time\n",
    "def main():\n",
    "    trunctables = 0\n",
    "    solution = 0\n",
    "    trial = 8\n",
    "    while trunctables < 11:\n",
    "        if is_prime(trial) and is_trunctable_prime_left(trial) and is_trunctable_prime_right(trial):\n",
    "            print(trial)\n",
    "            solution += trial\n",
    "            trunctables += 1\n",
    "        trial += 1\n",
    "    return solution\n",
    "\n",
    "main()"
   ]
  },
  {
   "cell_type": "markdown",
   "metadata": {},
   "source": [
    "#Cool idea from threads.<br>\n",
    "\n",
    "calvin79626  Taiwan   Python\n",
    "Sat, 4 Apr 2020, 10:55\n",
    "I solved this problem without setting any known upper limit, either total 11 prime or n-digit number.\n",
    "\n",
    "The main idea is that, starting by 1-digit number only, if the number is a prime, then there is potential for the \n",
    "number to be lengthened to a truncatable prime.\n",
    "\n",
    "So I start from number of 0-9, if prime, adding a subsequent digit from 0-9 after it. If the new 2-digit number is \n",
    "truncatable, then I add it to my \"truncatable_prime\" list. And if the new 2-digit number is prime again, we can keep \n",
    "going on by adding another subsequent digit, ... and so on.\n",
    "\n",
    "Finally, the program finished in 0.1s."
   ]
  }
 ],
 "metadata": {
  "kernelspec": {
   "display_name": "Python 3",
   "language": "python",
   "name": "python3"
  },
  "language_info": {
   "codemirror_mode": {
    "name": "ipython",
    "version": 3
   },
   "file_extension": ".py",
   "mimetype": "text/x-python",
   "name": "python",
   "nbconvert_exporter": "python",
   "pygments_lexer": "ipython3",
   "version": "3.7.3"
  }
 },
 "nbformat": 4,
 "nbformat_minor": 2
}

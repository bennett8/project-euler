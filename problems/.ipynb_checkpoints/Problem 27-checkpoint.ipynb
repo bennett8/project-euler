{
 "cells": [
  {
   "cell_type": "markdown",
   "metadata": {},
   "source": [
    "<p>Euler discovered the remarkable quadratic formula:</p>\n",
    "<p style=\"text-align:center;\">$n^2 + n + 41$</p>\n",
    "<p>It turns out that the formula will produce 40 primes for the consecutive integer values $0 \\le n \\le 39$. However, when $n = 40, 40^2 + 40 + 41 = 40(40 + 1) + 41$ is divisible by 41, and certainly when $n = 41, 41^2 + 41 + 41$ is clearly divisible by 41.</p>\n",
    "<p>The incredible formula $n^2 - 79n + 1601$ was discovered, which produces 80 primes for the consecutive values $0 \\le n \\le 79$. The product of the coefficients, −79 and 1601, is −126479.</p>\n",
    "<p>Considering quadratics of the form:</p>\n",
    "<blockquote>\n",
    "$n^2 + an + b$, where $|a| \\lt 1000$ and $|b| \\le 1000$<br /><br /><div>where $|n|$ is the modulus/absolute value of $n$<br />e.g. $|11| = 11$ and $|-4| = 4$</div>\n",
    "</blockquote>\n",
    "<p>Find the product of the coefficients, $a$ and $b$, for the quadratic expression that produces the maximum number of primes for consecutive values of $n$, starting with $n = 0$.</p>"
   ]
  },
  {
   "cell_type": "code",
   "execution_count": 62,
   "metadata": {},
   "outputs": [
    {
     "name": "stdout",
     "output_type": "stream",
     "text": [
      "-59231\n",
      "Wall time: 5.85 s\n"
     ]
    }
   ],
   "source": [
    "%%time\n",
    "import math\n",
    "def is_prime(number):\n",
    "    if number <1:\n",
    "        return False\n",
    "    else:\n",
    "        for i in range(2,math.floor(math.sqrt(number))+1):\n",
    "#             print(i)\n",
    "            if number % i == 0:\n",
    "                return False\n",
    "                break\n",
    "        return True\n",
    "\n",
    "a_list = range(-999,1000)\n",
    "b_list = range(-1000,1001)\n",
    "\n",
    "record = 0\n",
    "solution = 0\n",
    "for a in a_list:\n",
    "    for b in b_list:\n",
    "        prime_count = 0\n",
    "        i = 0\n",
    "        test = 1\n",
    "        while test == 1:\n",
    "#             print(i**2 + (a * i) + b)\n",
    "            if is_prime(i**2 + (a * i) + b):\n",
    "                prime_count += 1\n",
    "                i += 1\n",
    "            else:\n",
    "                if prime_count > record:\n",
    "                    solution = a * b\n",
    "                    record = prime_count\n",
    "                test = 2\n",
    "print(solution)"
   ]
  }
 ],
 "metadata": {
  "kernelspec": {
   "display_name": "Python 3",
   "language": "python",
   "name": "python3"
  },
  "language_info": {
   "codemirror_mode": {
    "name": "ipython",
    "version": 3
   },
   "file_extension": ".py",
   "mimetype": "text/x-python",
   "name": "python",
   "nbconvert_exporter": "python",
   "pygments_lexer": "ipython3",
   "version": "3.7.3"
  }
 },
 "nbformat": 4,
 "nbformat_minor": 2
}

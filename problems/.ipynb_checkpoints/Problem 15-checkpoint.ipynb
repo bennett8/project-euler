{
 "cells": [
  {
   "cell_type": "markdown",
   "metadata": {},
   "source": [
    "Starting in the top left corner of a 2×2 grid, and only being able to move to the right and down, there are exactly 6 routes to the bottom right corner.\n",
    "\n",
    "How many such routes are there through a 20×20 grid?"
   ]
  },
  {
   "cell_type": "code",
   "execution_count": 1,
   "metadata": {},
   "outputs": [],
   "source": [
    "# Solving after noticing this follows pattern of Pascal's Triangle"
   ]
  },
  {
   "cell_type": "code",
   "execution_count": 37,
   "metadata": {},
   "outputs": [
    {
     "name": "stdout",
     "output_type": "stream",
     "text": [
      "137846528820\n"
     ]
    }
   ],
   "source": [
    "input_length = 20\n",
    "row = 2\n",
    "pascal = [1, 1]\n",
    "\n",
    "while row < 2*input_length +1:\n",
    "    row +=1\n",
    "    temp_pascal = [0 for i in range(row)]\n",
    "    temp_pascal[0] = 1\n",
    "    temp_pascal[-1] = 1\n",
    "#     print(temp_pascal)\n",
    "#     print(temp_pascal[1:-1])\n",
    "#     print(len(temp_pascal[1:-1]))\n",
    "    for i in range(1, len(temp_pascal[1:-1])+1):\n",
    "#         print('i is: ' + str(i))\n",
    "#         print(temp_pascal[i])\n",
    "        temp_pascal[i] = pascal[i-1] + pascal[i]\n",
    "#         print(temp_pascal[i])\n",
    "    pascal = temp_pascal\n",
    "#     print(pascal)\n",
    "#     print('Loop!')\n",
    "print(max(pascal))"
   ]
  },
  {
   "cell_type": "code",
   "execution_count": 40,
   "metadata": {},
   "outputs": [
    {
     "name": "stdout",
     "output_type": "stream",
     "text": [
      "137846528820\n"
     ]
    }
   ],
   "source": [
    "#From threads\n",
    "'''\n",
    "Can use combinatorics. There are forty moves (20D, 20R), and each time you choose one. Can think about it as choosing\n",
    "when to go down and when not to. Or 20 people in a room with 40 chairs, and wanting to know the combinations of empty\n",
    "chairs that is possible. So it's 40 choose 20, which is 40! / (20!)(40-20)!\n",
    "\n",
    "'''\n",
    "\n",
    "import math\n",
    "print(math.factorial(40)//(math.factorial(20)*math.factorial(20)))"
   ]
  }
 ],
 "metadata": {
  "kernelspec": {
   "display_name": "Python 3",
   "language": "python",
   "name": "python3"
  },
  "language_info": {
   "codemirror_mode": {
    "name": "ipython",
    "version": 3
   },
   "file_extension": ".py",
   "mimetype": "text/x-python",
   "name": "python",
   "nbconvert_exporter": "python",
   "pygments_lexer": "ipython3",
   "version": "3.7.3"
  }
 },
 "nbformat": 4,
 "nbformat_minor": 2
}

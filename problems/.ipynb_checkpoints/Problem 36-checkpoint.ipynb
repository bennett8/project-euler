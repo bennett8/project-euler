{
 "cells": [
  {
   "cell_type": "markdown",
   "metadata": {},
   "source": [
    "The decimal number, 585 = 1001001001<sub>2</sub> (binary), is palindromic in both bases.\n",
    "\n",
    "Find the sum of all numbers, less than one million, which are palindromic in base 10 and base 2.\n",
    "\n",
    "(Please note that the palindromic number, in either base, may not include leading zeros.)"
   ]
  },
  {
   "cell_type": "code",
   "execution_count": 4,
   "metadata": {},
   "outputs": [],
   "source": [
    "def is_palindrome(number): \n",
    "    string = str(number)\n",
    "    length = len(string)\n",
    "    for i in range(length // 2): #iterate over each digit in first half of digits\n",
    "        if string[i] == string[-i-1]:\n",
    "            continue\n",
    "        else:\n",
    "            return False\n",
    "            break\n",
    "    return True"
   ]
  },
  {
   "cell_type": "code",
   "execution_count": 5,
   "metadata": {},
   "outputs": [
    {
     "name": "stdout",
     "output_type": "stream",
     "text": [
      "True\n",
      "True\n",
      "False\n",
      "False\n",
      "True\n",
      "True\n"
     ]
    }
   ],
   "source": [
    "print(is_palindrome(22322))\n",
    "print(is_palindrome(1001001))\n",
    "print(is_palindrome(45))\n",
    "print(is_palindrome(1010))\n",
    "print(is_palindrome(1))\n",
    "print(is_palindrome(0))"
   ]
  },
  {
   "cell_type": "code",
   "execution_count": 54,
   "metadata": {},
   "outputs": [],
   "source": [
    "def to_binary(number):\n",
    "    if number == 0:\n",
    "        solution = 0\n",
    "    else:\n",
    "        binary = ''\n",
    "        while number !=0:\n",
    "            if number == 1:\n",
    "                binary += '1'\n",
    "                number -= 1\n",
    "            elif number % 2 == 0:\n",
    "                binary += '0'\n",
    "                number = number // 2\n",
    "            else:\n",
    "                binary += '1'\n",
    "                number = (number-1) // 2\n",
    "#             print('Loop!' + binary)\n",
    "        solution = int(binary[::-1])\n",
    "    return solution"
   ]
  },
  {
   "cell_type": "code",
   "execution_count": 55,
   "metadata": {},
   "outputs": [
    {
     "name": "stdout",
     "output_type": "stream",
     "text": [
      "0: 0\n",
      "1: 1\n",
      "4: 100\n",
      "8: 1000\n",
      "9: 1001\n",
      "10: 1010\n"
     ]
    }
   ],
   "source": [
    "print('0: ' + str(to_binary(0))) #0\n",
    "print('1: ' + str(to_binary(1))) #1\n",
    "print('4: ' + str(to_binary(4))) #100\n",
    "print('8: ' + str(to_binary(8))) #1000\n",
    "print('9: ' + str(to_binary(9))) #1001\n",
    "print('10: ' + str(to_binary(10))) #1010"
   ]
  },
  {
   "cell_type": "code",
   "execution_count": 68,
   "metadata": {},
   "outputs": [
    {
     "name": "stdout",
     "output_type": "stream",
     "text": [
      "0\n",
      "1\n",
      "3\n",
      "5\n",
      "7\n",
      "9\n",
      "33\n",
      "99\n",
      "313\n",
      "585\n",
      "717\n",
      "7447\n",
      "9009\n",
      "15351\n",
      "32223\n",
      "39993\n",
      "53235\n",
      "53835\n",
      "73737\n",
      "585585\n",
      "Wall time: 737 ms\n"
     ]
    },
    {
     "data": {
      "text/plain": [
       "872187"
      ]
     },
     "execution_count": 68,
     "metadata": {},
     "output_type": "execute_result"
    }
   ],
   "source": [
    "%%time\n",
    "def main(upper_bound):\n",
    "    solution = 0\n",
    "    for number in range(upper_bound):\n",
    "        if is_palindrome(number):\n",
    "            if is_palindrome(to_binary(number)):\n",
    "                print(number)\n",
    "                solution += number\n",
    "    return solution\n",
    "main(1000000)"
   ]
  },
  {
   "cell_type": "code",
   "execution_count": 70,
   "metadata": {},
   "outputs": [
    {
     "data": {
      "text/plain": [
       "'100'"
      ]
     },
     "execution_count": 70,
     "metadata": {},
     "output_type": "execute_result"
    }
   ],
   "source": [
    "# Threads revealed the bin function, which converts number to binary\n",
    "bin(4)[2:]"
   ]
  }
 ],
 "metadata": {
  "kernelspec": {
   "display_name": "Python 3",
   "language": "python",
   "name": "python3"
  },
  "language_info": {
   "codemirror_mode": {
    "name": "ipython",
    "version": 3
   },
   "file_extension": ".py",
   "mimetype": "text/x-python",
   "name": "python",
   "nbconvert_exporter": "python",
   "pygments_lexer": "ipython3",
   "version": "3.7.3"
  }
 },
 "nbformat": 4,
 "nbformat_minor": 2
}

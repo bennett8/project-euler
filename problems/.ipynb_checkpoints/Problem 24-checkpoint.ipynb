{
 "cells": [
  {
   "cell_type": "markdown",
   "metadata": {},
   "source": [
    "A permutation is an ordered arrangement of objects. For example, 3124 is one possible permutation of the digits 1, 2, 3 and 4. If all of the permutations are listed numerically or alphabetically, we call it lexicographic order. The lexicographic permutations of 0, 1 and 2 are:\n",
    "\n",
    "012   021   102   120   201   210\n",
    "\n",
    "What is the millionth lexicographic permutation of the digits 0, 1, 2, 3, 4, 5, 6, 7, 8 and 9?"
   ]
  },
  {
   "cell_type": "code",
   "execution_count": 133,
   "metadata": {},
   "outputs": [
    {
     "name": "stdout",
     "output_type": "stream",
     "text": [
      "2783915460\n",
      "Wall time: 968 µs\n"
     ]
    }
   ],
   "source": [
    "%%time\n",
    "import math\n",
    "maximum = 10\n",
    "place_input = 1000000\n",
    "place = place_input -1 #index to 0, so 1 less than actual goal\n",
    "solution = []\n",
    "digits = list(range(maximum))\n",
    "\n",
    "for iteration in range(maximum):\n",
    "#     print('Digits: ')\n",
    "#     print(digits)\n",
    "    length = len(digits)\n",
    "#     print('length: ' +str(length))\n",
    "    length -=1\n",
    "#     print('length: ' +str(length))\n",
    "    i = place // math.factorial(length)\n",
    "#     print('i: ' + str(i))\n",
    "    place = place % math.factorial(length)\n",
    "#     print('Place: ' + str(place))\n",
    "    solution.append(digits[i])\n",
    "#     print('Solution:')\n",
    "#     print(solution)\n",
    "    digits.remove(digits[i])\n",
    "print(\"\".join(map(str,solution)))"
   ]
  },
  {
   "cell_type": "code",
   "execution_count": 135,
   "metadata": {},
   "outputs": [
    {
     "name": "stdout",
     "output_type": "stream",
     "text": [
      "2783915460\n",
      "Wall time: 729 ms\n"
     ]
    }
   ],
   "source": [
    "%%time\n",
    "#From threads\n",
    "import itertools\n",
    "permutations = list(itertools.permutations([str(i) for i in range(0, 10)]))\n",
    "print(''.join(permutations[999999]))"
   ]
  }
 ],
 "metadata": {
  "kernelspec": {
   "display_name": "Python 3",
   "language": "python",
   "name": "python3"
  },
  "language_info": {
   "codemirror_mode": {
    "name": "ipython",
    "version": 3
   },
   "file_extension": ".py",
   "mimetype": "text/x-python",
   "name": "python",
   "nbconvert_exporter": "python",
   "pygments_lexer": "ipython3",
   "version": "3.7.3"
  }
 },
 "nbformat": 4,
 "nbformat_minor": 2
}

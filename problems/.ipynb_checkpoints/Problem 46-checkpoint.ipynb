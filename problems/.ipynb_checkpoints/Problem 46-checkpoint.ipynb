{
 "cells": [
  {
   "cell_type": "markdown",
   "metadata": {},
   "source": [
    "<p>It was proposed by Christian Goldbach that every odd composite number can be written as the sum of a prime and twice a square.</p>\n",
    "<p style=\"margin-left:10px;\">9 = 7 + 2×1<sup>2</sup><br>\n",
    "15 = 7 + 2×2<sup>2</sup><br>\n",
    "21 = 3 + 2×3<sup>2</sup><br>\n",
    "25 = 7 + 2×3<sup>2</sup><br>\n",
    "27 = 19 + 2×2<sup>2</sup><br>\n",
    "33 = 31 + 2×1<sup>2</sup></p>\n",
    "<p>It turns out that the conjecture was false.</p>\n",
    "<p>What is the smallest odd composite that cannot be written as the sum of a prime and twice a square?</p>"
   ]
  },
  {
   "cell_type": "code",
   "execution_count": 7,
   "metadata": {},
   "outputs": [],
   "source": [
    "from itertools import compress\n",
    "import math"
   ]
  },
  {
   "cell_type": "code",
   "execution_count": 48,
   "metadata": {},
   "outputs": [
    {
     "data": {
      "text/plain": [
       "[2, 3, 5, 7]"
      ]
     },
     "execution_count": 48,
     "metadata": {},
     "output_type": "execute_result"
    }
   ],
   "source": [
    "def list_primes(upper_bound): #Adjusted seive to include upper bound itself for purposes of this problem\n",
    "    \n",
    "    primes = [True for i in range(upper_bound+1)]\n",
    "    primes[0], primes[1] = False, False\n",
    "    p = 2\n",
    "    while p < upper_bound-1:\n",
    "        if primes[p]:\n",
    "            for i in range(p*p, upper_bound+1, p):\n",
    "                primes[i] = False\n",
    "        p += 1\n",
    "    \n",
    "    prime_numbers = list(compress([i for i in range(upper_bound+1)], primes))\n",
    "    return prime_numbers\n",
    "\n",
    "list_primes(7)"
   ]
  },
  {
   "cell_type": "code",
   "execution_count": 53,
   "metadata": {},
   "outputs": [],
   "source": [
    "def passes(number):\n",
    "    for prime in list_primes(number):\n",
    "#         print('prime: ' + str(prime))\n",
    "        result = number - prime\n",
    "#         print('number-prime: ' + str(result))\n",
    "        result = result / 2\n",
    "#         print('result / 2: ' + str(result))\n",
    "#         print(result)\n",
    "#         print(math.sqrt(result))\n",
    "#         print(math.floor(math.sqrt(result)))\n",
    "        if math.sqrt(result) == math.floor(math.sqrt(result)):\n",
    "#             print('True')\n",
    "            return True\n",
    "            break\n",
    "    return False"
   ]
  },
  {
   "cell_type": "code",
   "execution_count": 55,
   "metadata": {},
   "outputs": [
    {
     "name": "stdout",
     "output_type": "stream",
     "text": [
      "Wall time: 2.95 s\n"
     ]
    },
    {
     "data": {
      "text/plain": [
       "5777"
      ]
     },
     "execution_count": 55,
     "metadata": {},
     "output_type": "execute_result"
    }
   ],
   "source": [
    "%%time\n",
    "def main():\n",
    "    i = 7\n",
    "    response = True\n",
    "    while response == True:\n",
    "        i += 2\n",
    "        response = passes(i)\n",
    "    return i\n",
    "\n",
    "main()"
   ]
  }
 ],
 "metadata": {
  "kernelspec": {
   "display_name": "Python 3",
   "language": "python",
   "name": "python3"
  },
  "language_info": {
   "codemirror_mode": {
    "name": "ipython",
    "version": 3
   },
   "file_extension": ".py",
   "mimetype": "text/x-python",
   "name": "python",
   "nbconvert_exporter": "python",
   "pygments_lexer": "ipython3",
   "version": "3.7.3"
  }
 },
 "nbformat": 4,
 "nbformat_minor": 2
}

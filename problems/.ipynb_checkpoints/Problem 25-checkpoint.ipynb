{
 "cells": [
  {
   "cell_type": "markdown",
   "metadata": {},
   "source": [
    "The Fibonacci sequence is defined by the recurrence relation:\n",
    "\n",
    "F<sub>n</sub> = F<sub>n−1</sub> + F<sub>n-2</sub>, where F<sub>1</sub> = 1 and F<sub>2</sub> = 1.\n",
    "\n",
    "Hence the first 12 terms will be [didnt' feel like adding sub tags]:\n",
    "\n",
    "    F1 = 1\n",
    "    F2 = 1\n",
    "    F3 = 2\n",
    "    F4 = 3\n",
    "    F5 = 5\n",
    "    F6 = 8\n",
    "    F7 = 13\n",
    "    F8 = 21\n",
    "    F9 = 34\n",
    "    F10 = 55\n",
    "    F11 = 89\n",
    "    F12 = 144\n",
    "\n",
    "The 12th term, F<sub>12</sub>, is the first term to contain three digits.\n",
    "\n",
    "What is the index of the first term in the Fibonacci sequence to contain 1000 digits?"
   ]
  },
  {
   "cell_type": "code",
   "execution_count": 22,
   "metadata": {},
   "outputs": [],
   "source": [
    "fib_cache = {}\n",
    "\n",
    "def f(n):\n",
    "    if n in fib_cache:\n",
    "        return fib_cache[n]\n",
    "    elif n == 1:\n",
    "        result = 1\n",
    "    elif n == 2:\n",
    "        result = 1\n",
    "    elif n > 2:\n",
    "        result = f(n-1) + f(n-2)\n",
    "    \n",
    "    fib_cache[n] = result\n",
    "    \n",
    "    return result"
   ]
  },
  {
   "cell_type": "code",
   "execution_count": 35,
   "metadata": {},
   "outputs": [
    {
     "name": "stdout",
     "output_type": "stream",
     "text": [
      "4782\n",
      "Wall time: 41.9 ms\n"
     ]
    }
   ],
   "source": [
    "%%time\n",
    "length = 1\n",
    "i = 0\n",
    "while length < 1000:\n",
    "    i +=1\n",
    "    fibonacci = f(i)\n",
    "#     print('f(' + str(i) + ')=' + str(fibonacci))\n",
    "    length = len(str(fibonacci))\n",
    "print(i)"
   ]
  },
  {
   "cell_type": "code",
   "execution_count": 38,
   "metadata": {},
   "outputs": [
    {
     "name": "stdout",
     "output_type": "stream",
     "text": [
      "Wall time: 36.9 ms\n"
     ]
    },
    {
     "data": {
      "text/plain": [
       "4782"
      ]
     },
     "execution_count": 38,
     "metadata": {},
     "output_type": "execute_result"
    }
   ],
   "source": [
    "%%time\n",
    "#From threads\n",
    "def finlen(lens):\n",
    "    a=1\n",
    "    b=1\n",
    "    count = 2\n",
    "    while len(str(b))<lens:\n",
    "        c = a+b\n",
    "        a = b\n",
    "        b = c\n",
    "        count+=1\n",
    "    return count\n",
    "\n",
    "finlen(1000)"
   ]
  },
  {
   "cell_type": "code",
   "execution_count": 39,
   "metadata": {},
   "outputs": [],
   "source": [
    "#Threads version makes sense. I returned the entire sequence by defining recursively, and I could've just updated a loop."
   ]
  }
 ],
 "metadata": {
  "kernelspec": {
   "display_name": "Python 3",
   "language": "python",
   "name": "python3"
  },
  "language_info": {
   "codemirror_mode": {
    "name": "ipython",
    "version": 3
   },
   "file_extension": ".py",
   "mimetype": "text/x-python",
   "name": "python",
   "nbconvert_exporter": "python",
   "pygments_lexer": "ipython3",
   "version": "3.7.3"
  }
 },
 "nbformat": 4,
 "nbformat_minor": 2
}

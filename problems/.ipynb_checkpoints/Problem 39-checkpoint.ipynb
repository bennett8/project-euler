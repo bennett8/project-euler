{
 "cells": [
  {
   "cell_type": "markdown",
   "metadata": {},
   "source": [
    "If p is the perimeter of a right angle triangle with integral length sides, {a,b,c}, there are exactly three solutions for p = 120.\n",
    "\n",
    "{20,48,52}, {24,45,51}, {30,40,50}\n",
    "\n",
    "For which value of p ≤ 1000, is the number of solutions maximised?"
   ]
  },
  {
   "cell_type": "code",
   "execution_count": 82,
   "metadata": {},
   "outputs": [],
   "source": [
    "# Logic: Primative pythagorean triples (i.e., those for which a, b, c are coprime) can be created using m,n; m > n> 0, \n",
    "# coprime, and one even (other odd), using a = m**2 - n**2, b = 2*m*n, c = m**2 + n**2. Then mulitply by factors keeping\n",
    "# perimeter within bounds to get all triples."
   ]
  },
  {
   "cell_type": "code",
   "execution_count": 102,
   "metadata": {},
   "outputs": [],
   "source": [
    "import math\n",
    "from statistics import mode"
   ]
  },
  {
   "cell_type": "code",
   "execution_count": 103,
   "metadata": {},
   "outputs": [],
   "source": [
    "def is_coprime(x,y):\n",
    "    x_factors = [i for i in range(2,x+1) if x % i == 0]\n",
    "    y_factors = [i for i in range(2,y+1) if y % i == 0]\n",
    "    z = x_factors + y_factors\n",
    "    if len(x_factors) + len(y_factors) == len(set(x_factors + y_factors)):\n",
    "        return True\n",
    "    else:\n",
    "        return False"
   ]
  },
  {
   "cell_type": "code",
   "execution_count": 104,
   "metadata": {},
   "outputs": [],
   "source": [
    "def primative_triples():\n",
    "    list_p = []\n",
    "    for m in range(2,math.floor(math.sqrt(500))):\n",
    "        for n in [i for i in range(1, min(m, math.floor(math.sqrt(500-m)))) if \n",
    "                  is_coprime(i,m) and ((i % 2 == 0 and m % 2 != 0) or (i % 2 != 0 and m % 2 == 0))]:\n",
    "            a = m**2 - n**2\n",
    "            b = 2*m*n\n",
    "            c = m**2 + n**2\n",
    "            p = a + b + c\n",
    "            if p <= 1000:\n",
    "                list_p.append(p)\n",
    "    return list_p"
   ]
  },
  {
   "cell_type": "code",
   "execution_count": 126,
   "metadata": {},
   "outputs": [
    {
     "name": "stdout",
     "output_type": "stream",
     "text": [
      "Wall time: 993 µs\n"
     ]
    },
    {
     "data": {
      "text/plain": [
       "840"
      ]
     },
     "execution_count": 126,
     "metadata": {},
     "output_type": "execute_result"
    }
   ],
   "source": [
    "%%time\n",
    "def main():\n",
    "    primatives = primative_triples()\n",
    "    result_list = []\n",
    "    for perimeter in primatives:\n",
    "        i = 1\n",
    "        temp = perimeter\n",
    "        while temp <= 1000:\n",
    "            result_list.append(temp)\n",
    "            i += 1\n",
    "            temp = perimeter * i\n",
    "#             print(result_list)\n",
    "    return mode(result_list)\n",
    "\n",
    "main()"
   ]
  },
  {
   "cell_type": "code",
   "execution_count": 127,
   "metadata": {},
   "outputs": [
    {
     "name": "stdout",
     "output_type": "stream",
     "text": [
      "840.0\n",
      "Wall time: 164 ms\n"
     ]
    }
   ],
   "source": [
    "%%time\n",
    "# From threads. For a in range, b greater than a, find c, confirm c an int and perimeter <1000.\n",
    "# Then append perimeter to list. Finally, \n",
    "perimeters = []\n",
    "for a in range(1, 500):\n",
    "    for b in range(a, 500):\n",
    "        c = (a ** 2 + b ** 2) ** 0.5\n",
    "        if int(c) == c and a + b + c <= 1000:\n",
    "            perimeters.append(a + b + c)\n",
    "\n",
    "print(max(set(perimeters), key = perimeters.count))"
   ]
  },
  {
   "cell_type": "code",
   "execution_count": 139,
   "metadata": {},
   "outputs": [
    {
     "name": "stdout",
     "output_type": "stream",
     "text": [
      "3\n"
     ]
    }
   ],
   "source": [
    "# To understand last line of code above\n",
    "print(max(set([1,2,3,3,4]), key = [1,2,3,3,4].count))"
   ]
  },
  {
   "cell_type": "code",
   "execution_count": 140,
   "metadata": {},
   "outputs": [
    {
     "data": {
      "text/plain": [
       "Counter({12.0: 1,\n",
       "         30.0: 1,\n",
       "         24.0: 1,\n",
       "         56.0: 1,\n",
       "         40.0: 1,\n",
       "         36.0: 1,\n",
       "         90.0: 2,\n",
       "         60.0: 2,\n",
       "         132.0: 2,\n",
       "         48.0: 1,\n",
       "         84.0: 2,\n",
       "         182.0: 1,\n",
       "         112.0: 1,\n",
       "         240.0: 4,\n",
       "         80.0: 1,\n",
       "         144.0: 2,\n",
       "         306.0: 1,\n",
       "         72.0: 1,\n",
       "         180.0: 3,\n",
       "         380.0: 1,\n",
       "         70.0: 1,\n",
       "         120.0: 3,\n",
       "         220.0: 1,\n",
       "         168.0: 3,\n",
       "         462.0: 2,\n",
       "         264.0: 2,\n",
       "         552.0: 2,\n",
       "         96.0: 1,\n",
       "         312.0: 2,\n",
       "         150.0: 1,\n",
       "         650.0: 1,\n",
       "         364.0: 1,\n",
       "         108.0: 1,\n",
       "         270.0: 2,\n",
       "         756.0: 4,\n",
       "         126.0: 1,\n",
       "         224.0: 1,\n",
       "         420.0: 5,\n",
       "         870.0: 2,\n",
       "         480.0: 4,\n",
       "         992.0: 1,\n",
       "         160.0: 1,\n",
       "         288.0: 2,\n",
       "         544.0: 1,\n",
       "         154.0: 1,\n",
       "         396.0: 3,\n",
       "         612.0: 2,\n",
       "         210.0: 2,\n",
       "         280.0: 3,\n",
       "         198.0: 1,\n",
       "         252.0: 3,\n",
       "         360.0: 4,\n",
       "         684.0: 2,\n",
       "         760.0: 2,\n",
       "         156.0: 1,\n",
       "         208.0: 1,\n",
       "         546.0: 2,\n",
       "         140.0: 1,\n",
       "         200.0: 1,\n",
       "         440.0: 2,\n",
       "         840.0: 8,\n",
       "         336.0: 3,\n",
       "         924.0: 5,\n",
       "         286.0: 1,\n",
       "         528.0: 3,\n",
       "         450.0: 2,\n",
       "         720.0: 6,\n",
       "         176.0: 1,\n",
       "         192.0: 1,\n",
       "         432.0: 2,\n",
       "         624.0: 3,\n",
       "         392.0: 1,\n",
       "         300.0: 2,\n",
       "         204.0: 1,\n",
       "         340.0: 1,\n",
       "         918.0: 2,\n",
       "         390.0: 2,\n",
       "         728.0: 2,\n",
       "         216.0: 1,\n",
       "         540.0: 3,\n",
       "         330.0: 2,\n",
       "         660.0: 5,\n",
       "         448.0: 1,\n",
       "         228.0: 1,\n",
       "         418.0: 1,\n",
       "         260.0: 1,\n",
       "         510.0: 2,\n",
       "         960.0: 4,\n",
       "         504.0: 4,\n",
       "         630.0: 4,\n",
       "         320.0: 1,\n",
       "         576.0: 2,\n",
       "         234.0: 1,\n",
       "         910.0: 2,\n",
       "         308.0: 1,\n",
       "         792.0: 3,\n",
       "         646.0: 1,\n",
       "         276.0: 1,\n",
       "         598.0: 1,\n",
       "         560.0: 3,\n",
       "         936.0: 3,\n",
       "         700.0: 2,\n",
       "         798.0: 1,\n",
       "         616.0: 2,\n",
       "         416.0: 1,\n",
       "         400.0: 1,\n",
       "         880.0: 3,\n",
       "         324.0: 1,\n",
       "         810.0: 2,\n",
       "         378.0: 1,\n",
       "         476.0: 1,\n",
       "         588.0: 2,\n",
       "         672.0: 4,\n",
       "         966.0: 1,\n",
       "         374.0: 1,\n",
       "         348.0: 1,\n",
       "         928.0: 1,\n",
       "         572.0: 1,\n",
       "         900.0: 4,\n",
       "         372.0: 1,\n",
       "         456.0: 2,\n",
       "         570.0: 2,\n",
       "         352.0: 1,\n",
       "         384.0: 1,\n",
       "         608.0: 1,\n",
       "         864.0: 3,\n",
       "         784.0: 1,\n",
       "         990.0: 4,\n",
       "         350.0: 1,\n",
       "         600.0: 3,\n",
       "         408.0: 2,\n",
       "         680.0: 2,\n",
       "         442.0: 1,\n",
       "         520.0: 2,\n",
       "         780.0: 4,\n",
       "         594.0: 1,\n",
       "         444.0: 1,\n",
       "         896.0: 1,\n",
       "         836.0: 1,\n",
       "         644.0: 1,\n",
       "         690.0: 2,\n",
       "         468.0: 2,\n",
       "         952.0: 2,\n",
       "         920.0: 2,\n",
       "         492.0: 1,\n",
       "         750.0: 1,\n",
       "         640.0: 1,\n",
       "         516.0: 1,\n",
       "         858.0: 1,\n",
       "         494.0: 1,\n",
       "         714.0: 1,\n",
       "         490.0: 1,\n",
       "         532.0: 1,\n",
       "         564.0: 1,\n",
       "         986.0: 1,\n",
       "         874.0: 1,\n",
       "         930.0: 1,\n",
       "         832.0: 1,\n",
       "         636.0: 1,\n",
       "         800.0: 2,\n",
       "         648.0: 1,\n",
       "         770.0: 2,\n",
       "         748.0: 1,\n",
       "         696.0: 1,\n",
       "         708.0: 1,\n",
       "         828.0: 2,\n",
       "         732.0: 1,\n",
       "         744.0: 1,\n",
       "         912.0: 2,\n",
       "         704.0: 1,\n",
       "         768.0: 1,\n",
       "         702.0: 1,\n",
       "         882.0: 1,\n",
       "         1000.0: 1,\n",
       "         804.0: 1,\n",
       "         782.0: 1,\n",
       "         816.0: 2,\n",
       "         736.0: 1,\n",
       "         884.0: 1,\n",
       "         852.0: 1,\n",
       "         876.0: 1,\n",
       "         888.0: 1,\n",
       "         850.0: 1,\n",
       "         950.0: 1,\n",
       "         948.0: 1,\n",
       "         972.0: 1,\n",
       "         984.0: 1,\n",
       "         996.0: 1,\n",
       "         988.0: 1,\n",
       "         980.0: 1})"
      ]
     },
     "execution_count": 140,
     "metadata": {},
     "output_type": "execute_result"
    }
   ],
   "source": [
    "import collections\n",
    "collections.Counter(perimeters)"
   ]
  }
 ],
 "metadata": {
  "kernelspec": {
   "display_name": "Python 3",
   "language": "python",
   "name": "python3"
  },
  "language_info": {
   "codemirror_mode": {
    "name": "ipython",
    "version": 3
   },
   "file_extension": ".py",
   "mimetype": "text/x-python",
   "name": "python",
   "nbconvert_exporter": "python",
   "pygments_lexer": "ipython3",
   "version": "3.7.3"
  }
 },
 "nbformat": 4,
 "nbformat_minor": 2
}

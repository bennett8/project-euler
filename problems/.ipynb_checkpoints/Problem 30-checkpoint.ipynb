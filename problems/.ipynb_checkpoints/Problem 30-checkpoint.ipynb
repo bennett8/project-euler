{
 "cells": [
  {
   "cell_type": "markdown",
   "metadata": {},
   "source": [
    "<p>Surprisingly there are only three numbers that can be written as the sum of fourth powers of their digits:</p>\n",
    "<blockquote>1634 = 1<sup>4</sup> + 6<sup>4</sup> + 3<sup>4</sup> + 4<sup>4</sup><br />\n",
    "8208 = 8<sup>4</sup> + 2<sup>4</sup> + 0<sup>4</sup> + 8<sup>4</sup><br />\n",
    "9474 = 9<sup>4</sup> + 4<sup>4</sup> + 7<sup>4</sup> + 4<sup>4</sup></blockquote>\n",
    "<p class=\"info\">As 1 = 1<sup>4</sup> is not a sum it is not included.</p>\n",
    "<p>The sum of these numbers is 1634 + 8208 + 9474 = 19316.</p>\n",
    "<p>Find the sum of all the numbers that can be written as the sum of fifth powers of their digits.</p>"
   ]
  },
  {
   "cell_type": "code",
   "execution_count": 28,
   "metadata": {},
   "outputs": [],
   "source": [
    "def sum_digits_fifth(n):\n",
    "    digits = [int(i)**5 for i in str(n)]\n",
    "    return sum(digits)"
   ]
  },
  {
   "cell_type": "code",
   "execution_count": 33,
   "metadata": {},
   "outputs": [
    {
     "name": "stdout",
     "output_type": "stream",
     "text": [
      "4150\n",
      "4151\n",
      "54748\n",
      "92727\n",
      "93084\n",
      "194979\n",
      "443839\n"
     ]
    }
   ],
   "source": [
    "solution = 0\n",
    "for i in range(2,9**5*6):\n",
    "    if i == sum_digits_fifth(i):\n",
    "        print(i)\n",
    "        solution += i\n",
    "print(solution)"
   ]
  },
  {
   "cell_type": "code",
   "execution_count": null,
   "metadata": {},
   "outputs": [],
   "source": []
  }
 ],
 "metadata": {
  "kernelspec": {
   "display_name": "Python 3",
   "language": "python",
   "name": "python3"
  },
  "language_info": {
   "codemirror_mode": {
    "name": "ipython",
    "version": 3
   },
   "file_extension": ".py",
   "mimetype": "text/x-python",
   "name": "python",
   "nbconvert_exporter": "python",
   "pygments_lexer": "ipython3",
   "version": "3.7.3"
  }
 },
 "nbformat": 4,
 "nbformat_minor": 2
}

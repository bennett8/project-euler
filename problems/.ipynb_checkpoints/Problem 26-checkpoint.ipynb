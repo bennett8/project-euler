{
 "cells": [
  {
   "cell_type": "markdown",
   "metadata": {},
   "source": [
    "A unit fraction contains 1 in the numerator. The decimal representation of the unit fractions with denominators 2 to 10 are given:\n",
    "\n",
    "    1/2\t= \t0.5\n",
    "    1/3\t= \t0.(3)\n",
    "    1/4\t= \t0.25\n",
    "    1/5\t= \t0.2\n",
    "    1/6\t= \t0.1(6)\n",
    "    1/7\t= \t0.(142857)\n",
    "    1/8\t= \t0.125\n",
    "    1/9\t= \t0.(1)\n",
    "    1/10\t= \t0.1 \n",
    "\n",
    "Where 0.1(6) means 0.166666..., and has a 1-digit recurring cycle. It can be seen that 1/7 has a 6-digit recurring cycle.\n",
    "\n",
    "Find the value of d < 1000 for which 1/d contains the longest recurring cycle in its decimal fraction part.\n"
   ]
  },
  {
   "cell_type": "code",
   "execution_count": 47,
   "metadata": {},
   "outputs": [
    {
     "data": {
      "text/plain": [
       "0.14285714285714285"
      ]
     },
     "execution_count": 47,
     "metadata": {},
     "output_type": "execute_result"
    }
   ],
   "source": [
    "1/7"
   ]
  },
  {
   "cell_type": "code",
   "execution_count": 64,
   "metadata": {},
   "outputs": [
    {
     "data": {
      "text/plain": [
       "3"
      ]
     },
     "execution_count": 64,
     "metadata": {},
     "output_type": "execute_result"
    }
   ],
   "source": [
    "10 % 7"
   ]
  },
  {
   "cell_type": "code",
   "execution_count": 65,
   "metadata": {},
   "outputs": [
    {
     "data": {
      "text/plain": [
       "2"
      ]
     },
     "execution_count": 65,
     "metadata": {},
     "output_type": "execute_result"
    }
   ],
   "source": [
    "30 % 7"
   ]
  },
  {
   "cell_type": "code",
   "execution_count": 67,
   "metadata": {},
   "outputs": [
    {
     "data": {
      "text/plain": [
       "6"
      ]
     },
     "execution_count": 67,
     "metadata": {},
     "output_type": "execute_result"
    }
   ],
   "source": [
    "20 % 7"
   ]
  },
  {
   "cell_type": "code",
   "execution_count": 140,
   "metadata": {},
   "outputs": [
    {
     "name": "stdout",
     "output_type": "stream",
     "text": [
      "6\n",
      "2\n",
      "0\n"
     ]
    }
   ],
   "source": [
    "'''\n",
    "Can tell sequence based on remainder. Imagine long division. When get same remainder as earlier, you pull a 0 down, and \n",
    "sequence repeats\n",
    "'''\n",
    "\n",
    "def repeatend_length(number):\n",
    "    count = 0\n",
    "    divisor = 10\n",
    "    temp_list = []\n",
    "\n",
    "    while True:\n",
    "        while number > divisor:\n",
    "            divisor = divisor *10\n",
    "            temp_list.append(0)\n",
    "        remainder = divisor % number\n",
    "        if remainder == 0:\n",
    "            return 0\n",
    "            break\n",
    "        elif remainder in temp_list:\n",
    "            return (len(temp_list) - temp_list.index(remainder))\n",
    "            break\n",
    "        temp_list.append(remainder)\n",
    "        divisor = remainder * 10\n",
    "print(repeatend_length(26)) #6\n",
    "print(repeatend_length(33)) #2\n",
    "print(repeatend_length(4)) #0"
   ]
  },
  {
   "cell_type": "code",
   "execution_count": 154,
   "metadata": {},
   "outputs": [
    {
     "name": "stdout",
     "output_type": "stream",
     "text": [
      "Wall time: 211 ms\n"
     ]
    },
    {
     "data": {
      "text/plain": [
       "983"
      ]
     },
     "execution_count": 154,
     "metadata": {},
     "output_type": "execute_result"
    }
   ],
   "source": [
    "%%time\n",
    "def solve(n):\n",
    "    solution = 0\n",
    "    max_digits = 0\n",
    "    for i in range(2,n):\n",
    "        length = repeatend_length(i)\n",
    "        if length > max_digits:\n",
    "            max_digits = length\n",
    "            solution = i\n",
    "    return solution\n",
    "solve(1000)"
   ]
  }
 ],
 "metadata": {
  "kernelspec": {
   "display_name": "Python 3",
   "language": "python",
   "name": "python3"
  },
  "language_info": {
   "codemirror_mode": {
    "name": "ipython",
    "version": 3
   },
   "file_extension": ".py",
   "mimetype": "text/x-python",
   "name": "python",
   "nbconvert_exporter": "python",
   "pygments_lexer": "ipython3",
   "version": "3.7.3"
  }
 },
 "nbformat": 4,
 "nbformat_minor": 2
}

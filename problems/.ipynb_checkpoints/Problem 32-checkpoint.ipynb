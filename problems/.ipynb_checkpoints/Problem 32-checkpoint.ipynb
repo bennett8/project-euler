{
 "cells": [
  {
   "cell_type": "markdown",
   "metadata": {},
   "source": [
    "<p>We shall say that an <var>n</var>-digit number is pandigital if it makes use of all the digits 1 to <var>n</var> exactly once; for example, the 5-digit number, 15234, is 1 through 5 pandigital.</p>\n",
    "\n",
    "<p>The product 7254 is unusual, as the identity, 39 × 186 = 7254, containing multiplicand, multiplier, and product is 1 through 9 pandigital.</p>\n",
    "\n",
    "<p>Find the sum of all products whose multiplicand/multiplier/product identity can be written as a 1 through 9 pandigital.</p>\n",
    "\n",
    "<div class=\"note\">HINT: Some products can be obtained in more than one way so be sure to only include it once in your sum.</div>\n",
    "\n",
    "</div>"
   ]
  },
  {
   "cell_type": "markdown",
   "metadata": {},
   "source": [
    "<i>Solution has to me four digits. That leaves 2 digit * 3 digit. Smallest 2 digit * 4 digit and 3 digit * 3 digit are 5 digits, so won't work. Largest 1 digit * 3 digit and 2 digit * 2 digit are 4 digits, so also won't work.\n",
    "\n",
    "Multipliers can be 1 * 4 or 2 * 3. Might test each separately - should be quicker.</i>"
   ]
  },
  {
   "cell_type": "code",
   "execution_count": 59,
   "metadata": {},
   "outputs": [
    {
     "name": "stdout",
     "output_type": "stream",
     "text": [
      "Wall time: 4.1 s\n"
     ]
    }
   ],
   "source": [
    "%%time\n",
    "def is_pandigital(mult1, mult2, prod):\n",
    "    string = str(mult1) + str(mult2) + str(prod)\n",
    "    test_list = [i for i in string]\n",
    "    list_length = len(test_list)\n",
    "    set_length = len(set(test_list))\n",
    "    if list_length == 9 and set_length == 9 and '0' not in test_list:\n",
    "        return True\n",
    "    else:\n",
    "        return False\n",
    "\n",
    "for i in range(len(range(1,100)) * len(range(100,10000))):\n",
    "    is_pandigital(3, i, 6174)"
   ]
  },
  {
   "cell_type": "code",
   "execution_count": 70,
   "metadata": {},
   "outputs": [
    {
     "name": "stdout",
     "output_type": "stream",
     "text": [
      "{5346, 5796, 6952, 7852, 4396, 7632, 7254}\n",
      "45228\n",
      "Wall time: 4.32 s\n"
     ]
    }
   ],
   "source": [
    "%%time\n",
    "solution_list = []\n",
    "\n",
    "a_range = range(1,100)\n",
    "b_range = range(100,10000)\n",
    "\n",
    "for a in a_range:\n",
    "    for b in b_range:\n",
    "        if is_pandigital(a,b, a*b):\n",
    "            solution_list.append(a*b)\n",
    "print(set(solution_list))\n",
    "print(sum(set(solution_list)))"
   ]
  },
  {
   "cell_type": "code",
   "execution_count": 62,
   "metadata": {},
   "outputs": [
    {
     "name": "stdout",
     "output_type": "stream",
     "text": [
      "45228\n",
      "Wall time: 165 ms\n"
     ]
    }
   ],
   "source": [
    "%%time\n",
    "# From Threads\n",
    "\n",
    "cache = set()\n",
    "\n",
    "def is_pan_mult(x, y):\n",
    "    if ''.join(sorted(f'{x}{y}{x*y}')) == '123456789':\n",
    "        return x * y        \n",
    "\n",
    "for x in range(1, 100):\n",
    "    for y in range(9999 // x):\n",
    "        if is_pan_mult(x, y):                \n",
    "            cache.add(is_pan_mult(x, y))\n",
    "\n",
    "print(sum(cache))"
   ]
  }
 ],
 "metadata": {
  "kernelspec": {
   "display_name": "Python 3",
   "language": "python",
   "name": "python3"
  },
  "language_info": {
   "codemirror_mode": {
    "name": "ipython",
    "version": 3
   },
   "file_extension": ".py",
   "mimetype": "text/x-python",
   "name": "python",
   "nbconvert_exporter": "python",
   "pygments_lexer": "ipython3",
   "version": "3.7.3"
  }
 },
 "nbformat": 4,
 "nbformat_minor": 2
}

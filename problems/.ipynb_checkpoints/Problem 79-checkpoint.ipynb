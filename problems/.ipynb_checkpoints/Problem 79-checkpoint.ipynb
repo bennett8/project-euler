{
 "cells": [
  {
   "cell_type": "markdown",
   "metadata": {},
   "source": [
    "A common security method used for online banking is to ask the user for three random characters from a passcode. For example, if the passcode was 531278, they may ask for the 2nd, 3rd, and 5th characters; the expected reply would be: 317.\n",
    "\n",
    "The text file, keylog.txt, contains fifty successful login attempts.\n",
    "\n",
    "Given that the three characters are always asked for in order, analyse the file so as to determine the shortest possible secret passcode of unknown length."
   ]
  },
  {
   "cell_type": "code",
   "execution_count": 1,
   "metadata": {},
   "outputs": [],
   "source": [
    "logins = '''319\n",
    "680\n",
    "180\n",
    "690\n",
    "129\n",
    "620\n",
    "762\n",
    "689\n",
    "762\n",
    "318\n",
    "368\n",
    "710\n",
    "720\n",
    "710\n",
    "629\n",
    "168\n",
    "160\n",
    "689\n",
    "716\n",
    "731\n",
    "736\n",
    "729\n",
    "316\n",
    "729\n",
    "729\n",
    "710\n",
    "769\n",
    "290\n",
    "719\n",
    "680\n",
    "318\n",
    "389\n",
    "162\n",
    "289\n",
    "162\n",
    "718\n",
    "729\n",
    "319\n",
    "790\n",
    "680\n",
    "890\n",
    "362\n",
    "319\n",
    "760\n",
    "316\n",
    "729\n",
    "380\n",
    "319\n",
    "728\n",
    "716'''"
   ]
  },
  {
   "cell_type": "code",
   "execution_count": 6,
   "metadata": {},
   "outputs": [
    {
     "name": "stdout",
     "output_type": "stream",
     "text": [
      "[319, 680, 180, 690, 129, 620, 762, 689, 762, 318, 368, 710, 720, 710, 629, 168, 160, 689, 716, 731, 736, 729, 316, 729, 729, 710, 769, 290, 719, 680, 318, 389, 162, 289, 162, 718, 729, 319, 790, 680, 890, 362, 319, 760, 316, 729, 380, 319, 728, 716]\n"
     ]
    }
   ],
   "source": [
    "logins_list = list(map(int,logins.split('\\n')))\n",
    "print(logins_list)"
   ]
  },
  {
   "cell_type": "code",
   "execution_count": null,
   "metadata": {},
   "outputs": [],
   "source": [
    "# Just did it on paper... 73162890"
   ]
  }
 ],
 "metadata": {
  "kernelspec": {
   "display_name": "Python 3",
   "language": "python",
   "name": "python3"
  },
  "language_info": {
   "codemirror_mode": {
    "name": "ipython",
    "version": 3
   },
   "file_extension": ".py",
   "mimetype": "text/x-python",
   "name": "python",
   "nbconvert_exporter": "python",
   "pygments_lexer": "ipython3",
   "version": "3.7.3"
  }
 },
 "nbformat": 4,
 "nbformat_minor": 2
}

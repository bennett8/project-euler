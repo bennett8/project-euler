{
 "cells": [
  {
   "cell_type": "markdown",
   "metadata": {},
   "source": [
    "<p>Starting with the number 1 and moving to the right in a clockwise direction a 5 by 5 spiral is formed as follows:</p>\n",
    "<p style=\"text-align:center;font-family:'courier new';\"><span style=\"color:#ff0000;font-family:'courier new';\"><b>21</b></span> 22 23 24 <span style=\"color:#ff0000;font-family:'courier new';\"><b>25</b></span><br />\n",
    "20  <span style=\"color:#ff0000;font-family:'courier new';\"><b>7</b></span>  8  <span style=\"color:#ff0000;font-family:'courier new';\"><b>9</b></span> 10<br />\n",
    "19  6  <span style=\"color:#ff0000;font-family:'courier new';\"><b>1</b></span>  2 11<br />\n",
    "18  <span style=\"color:#ff0000;font-family:'courier new';\"><b>5</b></span>  4  <span style=\"color:#ff0000;font-family:'courier new';\"><b>3</b></span> 12<br /><span style=\"color:#ff0000;font-family:'courier new';\"><b>17</b></span> 16 15 14 <span style=\"color:#ff0000;font-family:'courier new';\"><b>13</b></span></p>\n",
    "<p>It can be verified that the sum of the numbers on the diagonals is 101.</p>\n",
    "<p>What is the sum of the numbers on the diagonals in a 1001 by 1001 spiral formed in the same way?</p>"
   ]
  },
  {
   "cell_type": "code",
   "execution_count": 11,
   "metadata": {},
   "outputs": [
    {
     "data": {
      "text/plain": [
       "669171001"
      ]
     },
     "execution_count": 11,
     "metadata": {},
     "output_type": "execute_result"
    }
   ],
   "source": [
    "size = 1001\n",
    "\n",
    "def diagonal_sum(dimension):\n",
    "    solution = 1\n",
    "    count = 1\n",
    "    increment = 0\n",
    "    number = 1\n",
    "    while count < dimension:\n",
    "        count += 2\n",
    "        increment += 2\n",
    "        for i in range(4):\n",
    "            number += increment\n",
    "            solution += number\n",
    "    return solution\n",
    "\n",
    "diagonal_sum(size)"
   ]
  }
 ],
 "metadata": {
  "kernelspec": {
   "display_name": "Python 3",
   "language": "python",
   "name": "python3"
  },
  "language_info": {
   "codemirror_mode": {
    "name": "ipython",
    "version": 3
   },
   "file_extension": ".py",
   "mimetype": "text/x-python",
   "name": "python",
   "nbconvert_exporter": "python",
   "pygments_lexer": "ipython3",
   "version": "3.7.3"
  }
 },
 "nbformat": 4,
 "nbformat_minor": 2
}

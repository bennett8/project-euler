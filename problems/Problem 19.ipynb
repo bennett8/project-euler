{
 "cells": [
  {
   "cell_type": "markdown",
   "metadata": {},
   "source": [
    "You are given the following information, but you may prefer to do some research for yourself.\n",
    "\n",
    "    1 Jan 1900 was a Monday.\n",
    "    Thirty days has September,\n",
    "    April, June and November.\n",
    "    All the rest have thirty-one,\n",
    "    Saving February alone,\n",
    "    Which has twenty-eight, rain or shine.\n",
    "    And on leap years, twenty-nine.\n",
    "    A leap year occurs on any year evenly divisible by 4, but not on a century unless it is divisible by 400.\n",
    "\n",
    "How many Sundays fell on the first of the month during the twentieth century (1 Jan 1901 to 31 Dec 2000)?"
   ]
  },
  {
   "cell_type": "code",
   "execution_count": 6,
   "metadata": {},
   "outputs": [],
   "source": [
    "def leap_year(year):\n",
    "    if year % 400 == 0:\n",
    "        return True\n",
    "    elif year % 100 == 0:\n",
    "        return False\n",
    "    elif year % 4 == 0:\n",
    "        return True\n",
    "    else:\n",
    "        return False"
   ]
  },
  {
   "cell_type": "code",
   "execution_count": 22,
   "metadata": {},
   "outputs": [
    {
     "data": {
      "text/plain": [
       "True"
      ]
     },
     "execution_count": 22,
     "metadata": {},
     "output_type": "execute_result"
    }
   ],
   "source": [
    "leap_year(2000)"
   ]
  },
  {
   "cell_type": "code",
   "execution_count": 31,
   "metadata": {},
   "outputs": [],
   "source": [
    "months = {\n",
    "    '1': 31,\n",
    "    '2': 28,\n",
    "    '3': 31,\n",
    "    '4': 30,\n",
    "    '5': 31,\n",
    "    '6': 30,\n",
    "    '7': 31,\n",
    "    '8': 31,\n",
    "    '9': 30,\n",
    "    '10': 31,\n",
    "    '11': 30,\n",
    "    '12': 31\n",
    "}"
   ]
  },
  {
   "cell_type": "code",
   "execution_count": 56,
   "metadata": {},
   "outputs": [
    {
     "data": {
      "text/plain": [
       "28"
      ]
     },
     "execution_count": 56,
     "metadata": {},
     "output_type": "execute_result"
    }
   ],
   "source": [
    "months['2']"
   ]
  },
  {
   "cell_type": "code",
   "execution_count": 82,
   "metadata": {},
   "outputs": [
    {
     "name": "stdout",
     "output_type": "stream",
     "text": [
      "171\n"
     ]
    }
   ],
   "source": [
    "days = {}\n",
    "i = 1\n",
    "for year in range(1900,2001):\n",
    "    if leap_year(year):\n",
    "        days_of_month['2'] = 29\n",
    "    else:\n",
    "        days_of_month['2'] = 28\n",
    "    for month in months:\n",
    "#         print(str(month) + '/' + str(year))\n",
    "        for day in range(1,months[month]+1):\n",
    "            days[i] = {'Year': year, 'Month': int(month), 'Day': day, 'Day_Of_Week': i % 7} \n",
    "#             print(days)\n",
    "            i +=1\n",
    "# print(days)\n",
    "solution = len([day for day in days if days[day]['Day']==1 and days[day]['Day_Of_Week']==0 and days[day]['Year'] > 1900])\n",
    "print(solution)"
   ]
  }
 ],
 "metadata": {
  "kernelspec": {
   "display_name": "Python 3",
   "language": "python",
   "name": "python3"
  },
  "language_info": {
   "codemirror_mode": {
    "name": "ipython",
    "version": 3
   },
   "file_extension": ".py",
   "mimetype": "text/x-python",
   "name": "python",
   "nbconvert_exporter": "python",
   "pygments_lexer": "ipython3",
   "version": "3.7.3"
  }
 },
 "nbformat": 4,
 "nbformat_minor": 2
}

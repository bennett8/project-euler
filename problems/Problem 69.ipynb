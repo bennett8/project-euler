{
 "cells": [
  {
   "cell_type": "markdown",
   "metadata": {},
   "source": [
    "Euler's Totient function, φ(<i>n</i>) [sometimes called the phi function], is used to determine the number of numbers less than <i>n</i> which are relatively prime to <i>n</i>. For example, as 1, 2, 4, 5, 7, and 8, are all less than nine and relatively prime to nine, φ(9)=6.</p>\n",
    "<div style=\"margin-left:100px;\">\n",
    "<table border=\"1\"><tbody><tr><td><b><i>n</i></b></td>\n",
    "<td><b>Relatively Prime</b></td>\n",
    "<td><b>φ(<i>n</i>)</b></td>\n",
    "<td><b><i>n</i>/φ(<i>n</i>)</b></td>\n",
    "</tr><tr><td>2</td>\n",
    "<td>1</td>\n",
    "<td>1</td>\n",
    "<td>2</td>\n",
    "</tr><tr><td>3</td>\n",
    "<td>1,2</td>\n",
    "<td>2</td>\n",
    "<td>1.5</td>\n",
    "</tr><tr><td>4</td>\n",
    "<td>1,3</td>\n",
    "<td>2</td>\n",
    "<td>2</td>\n",
    "</tr><tr><td>5</td>\n",
    "<td>1,2,3,4</td>\n",
    "<td>4</td>\n",
    "<td>1.25</td>\n",
    "</tr><tr><td>6</td>\n",
    "<td>1,5</td>\n",
    "<td>2</td>\n",
    "<td>3</td>\n",
    "</tr><tr><td>7</td>\n",
    "<td>1,2,3,4,5,6</td>\n",
    "<td>6</td>\n",
    "<td>1.1666...</td>\n",
    "</tr><tr><td>8</td>\n",
    "<td>1,3,5,7</td>\n",
    "<td>4</td>\n",
    "<td>2</td>\n",
    "</tr><tr><td>9</td>\n",
    "<td>1,2,4,5,7,8</td>\n",
    "<td>6</td>\n",
    "<td>1.5</td>\n",
    "</tr><tr><td>10</td>\n",
    "<td>1,3,7,9</td>\n",
    "<td>4</td>\n",
    "<td>2.5</td>\n",
    "</tr></tbody></table></div>\n",
    "<p>It can be seen that <i>n</i>=6 produces a maximum <i>n</i>/φ(<i>n</i>) for <i>n</i> ≤ 10.</p>\n",
    "<p>Find the value of <i>n</i> ≤ 1,000,000 for which <i>n</i>/φ(<i>n</i>) is a maximum.</p>"
   ]
  },
  {
   "cell_type": "code",
   "execution_count": 195,
   "metadata": {},
   "outputs": [],
   "source": [
    "# def gcd(a, b):\n",
    "#     while b != 0:\n",
    "# #         print('a: ' + str(a))\n",
    "# #         print('b: ' + str(b))\n",
    "#         a, b = b, a % b\n",
    "#     return a\n",
    "\n",
    "# def is_coprime(a, b):\n",
    "#     return gcd(a, b) == 1\n",
    "\n",
    "#built-in GCD is much faster because runs in C (don't know why that's faster)\n",
    "from math import gcd\n",
    "\n",
    "def is_coprime2(a, b):\n",
    "    return gcd(a, b) == 1"
   ]
  },
  {
   "cell_type": "code",
   "execution_count": 199,
   "metadata": {},
   "outputs": [
    {
     "name": "stdout",
     "output_type": "stream",
     "text": [
      "Wall time: 4.25 s\n"
     ]
    }
   ],
   "source": [
    "%%time\n",
    "import math\n",
    "for i in range(1,10122750):\n",
    "    is_coprime2(i, 987653)\n",
    "# is_coprime(6,7)\n"
   ]
  },
  {
   "cell_type": "code",
   "execution_count": 186,
   "metadata": {},
   "outputs": [
    {
     "name": "stdout",
     "output_type": "stream",
     "text": [
      "Wall time: 2.94 s\n"
     ]
    }
   ],
   "source": [
    "%%time\n",
    "def phi(n):\n",
    "    count = 0\n",
    "#     coprimes = []\n",
    "    for i in range(1,n):\n",
    "#         print('i: ' + str(i))\n",
    "        if is_coprime2(i,n):\n",
    "#             print('coprime')\n",
    "            count +=1\n",
    "#             coprimes.append(i)\n",
    "#     print(coprimes)\n",
    "    return count\n",
    "\n",
    "for i in range(2,4500):\n",
    "    phi(i)"
   ]
  },
  {
   "cell_type": "code",
   "execution_count": 152,
   "metadata": {},
   "outputs": [],
   "source": [
    "def main(upper_bound):\n",
    "    solution = 0\n",
    "    maximum = 0\n",
    "    for number in range(2,upper_bound):\n",
    "        if number / phi(number) > maximum:\n",
    "            maximum = number / phi(number)\n",
    "            solution = number\n",
    "    return solution\n",
    "    "
   ]
  },
  {
   "cell_type": "code",
   "execution_count": 185,
   "metadata": {},
   "outputs": [
    {
     "name": "stdout",
     "output_type": "stream",
     "text": [
      "Wall time: 3.34 s\n"
     ]
    },
    {
     "data": {
      "text/plain": [
       "2310"
      ]
     },
     "execution_count": 185,
     "metadata": {},
     "output_type": "execute_result"
    }
   ],
   "source": [
    "%%time\n",
    "main(4500)"
   ]
  },
  {
   "cell_type": "code",
   "execution_count": 306,
   "metadata": {},
   "outputs": [],
   "source": [
    "# Approach 2\n",
    "from itertools import compress\n",
    "import functools\n",
    "import operator"
   ]
  },
  {
   "cell_type": "code",
   "execution_count": 219,
   "metadata": {},
   "outputs": [],
   "source": [
    "def list_primes(upper_bound):\n",
    "    \n",
    "    primes = [True for i in range(upper_bound)]\n",
    "    primes[0], primes[1] = False, False\n",
    "    p = 2\n",
    "    while p < upper_bound-1:\n",
    "        if primes[p]:\n",
    "            for i in range(p*p, upper_bound, p):\n",
    "                primes[i] = False\n",
    "        p += 1\n",
    "    \n",
    "    prime_numbers = list(compress([i for i in range(upper_bound)], primes))\n",
    "    return prime_numbers\n",
    "\n",
    "# list_primes(1000000)"
   ]
  },
  {
   "cell_type": "code",
   "execution_count": 266,
   "metadata": {},
   "outputs": [
    {
     "name": "stdout",
     "output_type": "stream",
     "text": [
      "Wall time: 1.95 s\n"
     ]
    },
    {
     "data": {
      "text/plain": [
       "2310"
      ]
     },
     "execution_count": 266,
     "metadata": {},
     "output_type": "execute_result"
    }
   ],
   "source": [
    "%%time\n",
    "def main2(upper_bound):\n",
    "    primes = list_primes(upper_bound)\n",
    "    solution = 0\n",
    "    maximum = 0\n",
    "    for number in range(2,upper_bound):\n",
    "#         print('number: ' + str(number))\n",
    "#         subset_primes = filter(lambda x: x <= number, primes)\n",
    "#         print('Subset Primes:')\n",
    "#         print(subset_primes)\n",
    "        prime_divisors = [i for i in primes if i <= number and number % i == 0]\n",
    "#         print('Prime Divisors:')\n",
    "#         print(prime_divisors)\n",
    "        multiplicands = map(lambda x: 1 - (1/x), prime_divisors)\n",
    "#         print('Multiplicands:')\n",
    "#         print(multiplicands)\n",
    "        answer = 1 / functools.reduce(lambda x, y: x*y, multiplicands)\n",
    "#         print('answer: ' + str(answer))\n",
    "        if answer > maximum:\n",
    "            solution = number\n",
    "            maximum = answer\n",
    "    return solution\n",
    "\n",
    "main2(10000)"
   ]
  },
  {
   "cell_type": "code",
   "execution_count": 308,
   "metadata": {},
   "outputs": [
    {
     "name": "stdout",
     "output_type": "stream",
     "text": [
      "2 s ± 143 ms per loop (mean ± std. dev. of 7 runs, 1 loop each)\n"
     ]
    }
   ],
   "source": [
    "%%timeit\n",
    "def main3(upper_bound):\n",
    "    primes = list_primes(upper_bound)\n",
    "    solution = 0\n",
    "    maximum = 0\n",
    "    for number in range(2,upper_bound):\n",
    "#         print('number: ' + str(number))\n",
    "#         subset_primes = filter(lambda x: x <= number, primes)\n",
    "#         print('Subset Primes:')\n",
    "#         print(subset_primes)\n",
    "#         prime_divisors = [i for i in primes if i <= number and number % i == 0]\n",
    "#         print('Prime Divisors:')\n",
    "#         print(prime_divisors)\n",
    "        multiplicands = [1 - (1/i) for i in primes if i <= number and number % i == 0]\n",
    "#         print('Multiplicands:')\n",
    "#         print(multiplicands)\n",
    "        answer = 1 / functools.reduce(lambda x, y: x*y, multiplicands)\n",
    "#         print('answer: ' + str(answer))\n",
    "        if answer > maximum:\n",
    "            solution = number\n",
    "            maximum = answer\n",
    "    return solution\n",
    "\n",
    "main3(10000)"
   ]
  },
  {
   "cell_type": "code",
   "execution_count": 309,
   "metadata": {},
   "outputs": [
    {
     "name": "stdout",
     "output_type": "stream",
     "text": [
      "1.96 s ± 120 ms per loop (mean ± std. dev. of 7 runs, 1 loop each)\n"
     ]
    }
   ],
   "source": [
    "%%timeit\n",
    "def main4(upper_bound):\n",
    "    primes = list_primes(upper_bound)\n",
    "    solution = 0\n",
    "    maximum = 0\n",
    "    for number in range(2,upper_bound):\n",
    "        answer = 1 / functools.reduce(lambda x, y: x*y, [1 - (1/i) for i in primes if i <= number and number % i == 0])\n",
    "#         print('answer: ' + str(answer))\n",
    "        if answer > maximum:\n",
    "            solution = number\n",
    "            maximum = answer\n",
    "    return solution\n",
    "\n",
    "main4(10000)"
   ]
  },
  {
   "cell_type": "code",
   "execution_count": 301,
   "metadata": {},
   "outputs": [
    {
     "name": "stdout",
     "output_type": "stream",
     "text": [
      "1.92 s ± 186 ms per loop (mean ± std. dev. of 7 runs, 1 loop each)\n"
     ]
    }
   ],
   "source": [
    "%%timeit\n",
    "def main5(upper_bound):\n",
    "    primes = list_primes(upper_bound)\n",
    "    a = [1 / functools.reduce(lambda x, y: x*y, [1 - (1/i) for i in primes if i <= number and number % i == 0]) for number in range(2,upper_bound)]\n",
    "    return a.index(max(a))+2\n",
    "           \n",
    "main5(10000)"
   ]
  },
  {
   "cell_type": "code",
   "execution_count": 307,
   "metadata": {},
   "outputs": [
    {
     "name": "stdout",
     "output_type": "stream",
     "text": [
      "1.95 s ± 138 ms per loop (mean ± std. dev. of 7 runs, 1 loop each)\n"
     ]
    }
   ],
   "source": [
    "%%timeit\n",
    "def main6(upper_bound):\n",
    "    primes = list_primes(upper_bound)\n",
    "    solution = 0\n",
    "    maximum = 0\n",
    "    for number in range(2,upper_bound):\n",
    "        answer = 1 / functools.reduce(operator.mul, [1 - (1/i) for i in primes if i <= number and number % i == 0], 1)\n",
    "#         print('answer: ' + str(answer))\n",
    "        if answer > maximum:\n",
    "            solution = number\n",
    "            maximum = answer\n",
    "    return solution\n",
    "\n",
    "main6(10000)"
   ]
  },
  {
   "cell_type": "code",
   "execution_count": 310,
   "metadata": {},
   "outputs": [],
   "source": [
    "# Approach 3 (with help)"
   ]
  },
  {
   "cell_type": "markdown",
   "metadata": {},
   "source": [
    "My first thought was to reuse some of the old problems which dealt with factoring. <a title=\"Project Euler 12: Triangle Number with 500 Divisors\" href=\"https://www.mathblog.dk/triangle-number-with-more-than-500-divisors/\">Problem 12</a> was a pretty good candidate for this. However before I got that far I realised two things. First of all a number need not be a factor to not be relatively prime, so that renders the idea useless. The other fact is that if the number <em>n</em> divisible by 2 then every number which is also divisible by two cannot be relatively prime to <em>n</em>. Same thing goes for 3. Once we reach an <em>n</em> divisible by 4 we will see that it is not relatively prime to any even number since they share 2 as a common prime factor. So it seems that&nbsp;in general the more distinct prime factors <em>n </em>has, the smaller&nbsp;φ(<em>n</em>) must be and the larger the ratio had to be. So where will that lead us?</p>\n",
    "<p>Looking at wikipedia’s definition for <a href=\"http://en.wikipedia.org/wiki/Euler's_totient_function\">Euler’s totient function</a>&nbsp;it says</p>\n",
    "<p style=\"text-align: center;\"><span id=\"tex_8518\"><img src=\"https://www.mathblog.dk/wp-content/plugins/optimized-latex/image.php?image=tex_bf81dcd87e3aa3f0b097af50968164a5.png\" alt=\"\\displaystyle \\phi(n) = n \\prod_{p|n} \\left( 1 - \\frac{1}{p}\\right)\" title=\"\\displaystyle \\phi(n) = n \\prod_{p|n} \\left( 1 - \\frac{1}{p}\\right)\" class=\"latex\" width=\"151\" height=\"48\"></span></p>\n",
    "<p style=\"text-align: left;\">So basically that means we are trying to maximize the following function</p>\n",
    "<p style=\"text-align: center;\"><span id=\"tex_9072\"><img src=\"https://www.mathblog.dk/wp-content/plugins/optimized-latex/image.php?image=tex_6f3bc6b04cc40b20ad90fada184a869e.png\" alt=\"\\displaystyle \\frac{n}{\\phi(n)} = \\frac{n}{n \\prod_{p|n} \\left( 1 - \\frac{1}{p}\\right)} = \\frac{1}{ \\prod_{p|n} \\left( 1 - \\frac{1}{p}\\right)}\" title=\"\\displaystyle \\frac{n}{\\phi(n)} = \\frac{n}{n \\prod_{p|n} \\left( 1 - \\frac{1}{p}\\right)} = \\frac{1}{ \\prod_{p|n} \\left( 1 - \\frac{1}{p}\\right)}\" class=\"latex\" width=\"280\" height=\"52\"></span></p>\n",
    "<p>That means making the denominator as small as possible. This will happen for the number with the most &nbsp;distinct small prime factors. So we should be able to construct it by multiplying primes until we reach the largest number less then 1.000.000.</p>"
   ]
  },
  {
   "cell_type": "code",
   "execution_count": 316,
   "metadata": {},
   "outputs": [
    {
     "name": "stdout",
     "output_type": "stream",
     "text": [
      "1\n",
      "2\n",
      "6\n",
      "30\n",
      "210\n",
      "2310\n",
      "30030\n"
     ]
    },
    {
     "data": {
      "text/plain": [
       "510510"
      ]
     },
     "execution_count": 316,
     "metadata": {},
     "output_type": "execute_result"
    }
   ],
   "source": [
    "def main7(upper_bound):\n",
    "    primes = list_primes(upper_bound)\n",
    "    i = 0\n",
    "    solution = 1\n",
    "    while solution * primes[i] < upper_bound:\n",
    "        print(solution)\n",
    "        solution = solution * primes[i]\n",
    "        i += 1\n",
    "    return solution\n",
    "\n",
    "main7(1000000)"
   ]
  }
 ],
 "metadata": {
  "kernelspec": {
   "display_name": "Python 3",
   "language": "python",
   "name": "python3"
  },
  "language_info": {
   "codemirror_mode": {
    "name": "ipython",
    "version": 3
   },
   "file_extension": ".py",
   "mimetype": "text/x-python",
   "name": "python",
   "nbconvert_exporter": "python",
   "pygments_lexer": "ipython3",
   "version": "3.7.3"
  }
 },
 "nbformat": 4,
 "nbformat_minor": 2
}
